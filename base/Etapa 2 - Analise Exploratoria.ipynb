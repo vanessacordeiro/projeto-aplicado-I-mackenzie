{
 "cells": [
  {
   "cell_type": "code",
   "execution_count": 1,
   "id": "c5829956",
   "metadata": {},
   "outputs": [],
   "source": [
    "# Início da Análise: ver os headers e os tipos de cada coluna\n",
    "import pandas as pd\n",
    "from zipfile import ZipFile"
   ]
  },
  {
   "cell_type": "code",
   "execution_count": 2,
   "id": "fbedb2bf",
   "metadata": {},
   "outputs": [],
   "source": [
    "# Carregar o dataset\n",
    "with ZipFile('consumidor_reclamacoes/consumidor_reclamacoes.zip', 'r') as arquivo:\n",
    "    reclamacoes = pd.read_csv(arquivo.open(\"reclamacoes.csv\"), encoding='utf-8', on_bad_lines='skip', delimiter=';')\n",
    "    contexto = pd.read_csv(arquivo.open(\"reclamacoes_contexto.csv\"), encoding='utf-8', on_bad_lines='skip', delimiter=';')"
   ]
  },
  {
   "cell_type": "code",
   "execution_count": null,
   "id": "24e3d2c6",
   "metadata": {},
   "outputs": [],
   "source": []
  }
 ],
 "metadata": {
  "kernelspec": {
   "display_name": "Python 3",
   "language": "python",
   "name": "python3"
  },
  "language_info": {
   "codemirror_mode": {
    "name": "ipython",
    "version": 3
   },
   "file_extension": ".py",
   "mimetype": "text/x-python",
   "name": "python",
   "nbconvert_exporter": "python",
   "pygments_lexer": "ipython3",
   "version": "3.13.5"
  }
 },
 "nbformat": 4,
 "nbformat_minor": 5
}
