{
 "cells": [
  {
   "cell_type": "code",
   "execution_count": 16,
   "id": "d05f2f75",
   "metadata": {},
   "outputs": [],
   "source": [
    "# Início da Análise: ver os headers e os tipos de cada coluna\n",
    "import pandas as pd\n",
    "from zipfile import ZipFile"
   ]
  },
  {
   "cell_type": "code",
   "execution_count": null,
   "id": "65a1dcd9",
   "metadata": {},
   "outputs": [],
   "source": [
    "# Carregar o dataset\n",
    "with ZipFile('consumidor_reclamacoes/consumidor_reclamacoes.zip', 'r') as arquivo:\n",
    "    reclamacoes = pd.read_csv(arquivo.open(\"reclamacoes.csv\"), encoding='utf-8', on_bad_lines='skip', delimiter=';')\n",
    "    contexto = pd.read_csv(arquivo.open(\"reclamacoes_contexto.csv\"), encoding='utf-8', on_bad_lines='skip', delimiter=';')"
   ]
  },
  {
   "cell_type": "code",
   "execution_count": null,
   "id": "d4a76987",
   "metadata": {},
   "outputs": [
    {
     "name": "stdout",
     "output_type": "stream",
     "text": [
      "=== Colunas de reclamacoes.csv ===\n",
      "DataExtracao, SOLICITAÇÕES, Ano, Mês, AnoMês, UF, Cidade, CO_MUNICIPIO, CanalEntrada, Condição, TipoAtendimento, Serviço, Marca, Assunto, Problema\n",
      "\n",
      "=== Colunas de reclamacoes_contexto.csv ===\n",
      "DataExtracao, SOLICITAÇÕES, Ano, Mês, AnoMês, UF, Cidade, CO_MUNICIPIO, CanalEntrada, Condição, TipoAtendimento, Serviço, Marca, Assunto, Problema, Linha\n"
     ]
    }
   ],
   "source": [
    "print(\"=== Colunas de reclamacoes.csv ===\")\n",
    "print(', '.join(reclamacoes.columns.values))\n",
    "print(\"\\n=== Colunas de reclamacoes_contexto.csv ===\")\n",
    "print(', '.join(contexto.columns.values))"
   ]
  },
  {
   "cell_type": "code",
   "execution_count": null,
   "id": "02a0a07e",
   "metadata": {},
   "outputs": [
    {
     "name": "stdout",
     "output_type": "stream",
     "text": [
      "\n",
      "=== Informações de reclamacoes ===\n",
      "<class 'pandas.core.frame.DataFrame'>\n",
      "RangeIndex: 15952407 entries, 0 to 15952406\n",
      "Data columns (total 15 columns):\n",
      " #   Column           Dtype \n",
      "---  ------           ----- \n",
      " 0   DataExtracao     object\n",
      " 1   SOLICITAÇÕES     int64 \n",
      " 2   Ano              int64 \n",
      " 3   Mês              int64 \n",
      " 4   AnoMês           object\n",
      " 5   UF               object\n",
      " 6   Cidade           object\n",
      " 7   CO_MUNICIPIO     object\n",
      " 8   CanalEntrada     object\n",
      " 9   Condição         object\n",
      " 10  TipoAtendimento  object\n",
      " 11  Serviço          object\n",
      " 12  Marca            object\n",
      " 13  Assunto          object\n",
      " 14  Problema         object\n",
      "dtypes: int64(3), object(12)\n",
      "memory usage: 1.8+ GB\n",
      "None\n"
     ]
    }
   ],
   "source": [
    "# Ver os tipos de cada coluna\n",
    "print(\"\\n=== Informações de reclamacoes ===\")\n",
    "print(reclamacoes.info())"
   ]
  },
  {
   "cell_type": "code",
   "execution_count": null,
   "id": "e0f379db",
   "metadata": {},
   "outputs": [
    {
     "name": "stdout",
     "output_type": "stream",
     "text": [
      "\n",
      "=== Informações de contexto ===\n",
      "<class 'pandas.core.frame.DataFrame'>\n",
      "RangeIndex: 7072309 entries, 0 to 7072308\n",
      "Data columns (total 16 columns):\n",
      " #   Column           Dtype \n",
      "---  ------           ----- \n",
      " 0   DataExtracao     object\n",
      " 1   SOLICITAÇÕES     int64 \n",
      " 2   Ano              int64 \n",
      " 3   Mês              int64 \n",
      " 4   AnoMês           object\n",
      " 5   UF               object\n",
      " 6   Cidade           object\n",
      " 7   CO_MUNICIPIO     int64 \n",
      " 8   CanalEntrada     object\n",
      " 9   Condição         object\n",
      " 10  TipoAtendimento  object\n",
      " 11  Serviço          object\n",
      " 12  Marca            object\n",
      " 13  Assunto          object\n",
      " 14  Problema         object\n",
      " 15  Linha            int64 \n",
      "dtypes: int64(5), object(11)\n",
      "memory usage: 863.3+ MB\n",
      "None\n"
     ]
    }
   ],
   "source": [
    "print(\"\\n=== Informações de contexto ===\")\n",
    "print(contexto.info())"
   ]
  },
  {
   "cell_type": "code",
   "execution_count": null,
   "id": "7e119381",
   "metadata": {},
   "outputs": [],
   "source": []
  }
 ],
 "metadata": {
  "kernelspec": {
   "display_name": "Python 3",
   "language": "python",
   "name": "python3"
  },
  "language_info": {
   "codemirror_mode": {
    "name": "ipython",
    "version": 3
   },
   "file_extension": ".py",
   "mimetype": "text/x-python",
   "name": "python",
   "nbconvert_exporter": "python",
   "pygments_lexer": "ipython3",
   "version": "3.13.5"
  }
 },
 "nbformat": 4,
 "nbformat_minor": 5
}
